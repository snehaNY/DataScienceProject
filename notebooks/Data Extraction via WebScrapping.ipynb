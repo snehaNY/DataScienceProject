{
 "cells": [
  {
   "cell_type": "code",
   "execution_count": 2,
   "metadata": {},
   "outputs": [],
   "source": [
    "import requests\n",
    "from bs4 import BeautifulSoup"
   ]
  },
  {
   "cell_type": "code",
   "execution_count": 27,
   "metadata": {},
   "outputs": [],
   "source": [
    "#Sample HTML string\n",
    "html_string = \"\"\"<!DOCTYPE html>\n",
    "<html>\n",
    "<head>\n",
    "<style>\n",
    "table {\n",
    "  font-family: arial, sans-serif;\n",
    "  border-collapse: collapse;\n",
    "  width: 100%;\n",
    "}\n",
    "\n",
    "td, th {\n",
    "  border: 1px solid #dddddd;\n",
    "  text-align: left;\n",
    "  padding: 8px;\n",
    "}\n",
    "\n",
    "tr:nth-child(even) {\n",
    "  background-color: #dddddd;\n",
    "}\n",
    "</style>\n",
    "</head>\n",
    "<body>\n",
    "\n",
    "<h1>Doing DataScience with Python</h1>\n",
    "<p id=\"author\"> Author: Sneha</p>\n",
    "<p id=\"desc\"> Desc: This course will help you do various datascience activities via python </p>\n",
    "<table id=\"module\">\n",
    "  <tr>\n",
    "    <th>Company</th>\n",
    "    <th>Contact</th>\n",
    "    <th>Country</th>\n",
    "  </tr>\n",
    "  <tr>\n",
    "    <td>Alfreds Futterkiste</td>\n",
    "    <td>Maria Anders</td>\n",
    "    <td>Germany</td>\n",
    "  </tr>\n",
    "  <tr>\n",
    "    <td>Centro comercial Moctezuma</td>\n",
    "    <td>Francisco Chang</td>\n",
    "    <td>Mexico</td>\n",
    "  </tr>\n",
    "  <tr>\n",
    "    <td>Ernst Handel</td>\n",
    "    <td>Roland Mendel</td>\n",
    "    <td>Austria</td>\n",
    "  </tr>\n",
    "  <tr>\n",
    "    <td>Island Trading</td>\n",
    "    <td>Helen Bennett</td>\n",
    "    <td>UK</td>\n",
    "  </tr>\n",
    "  <tr>\n",
    "    <td>Laughing Bacchus Winecellars</td>\n",
    "    <td>Yoshi Tannamuri</td>\n",
    "    <td>Canada</td>\n",
    "  </tr>\n",
    "  <tr>\n",
    "    <td>Magazzini Alimentari Riuniti</td>\n",
    "    <td>Giovanni Rovelli</td>\n",
    "    <td>Italy</td>\n",
    "  </tr>\n",
    "</table>\n",
    "\n",
    "</body>\n",
    "</html>\n",
    "\"\"\""
   ]
  },
  {
   "cell_type": "code",
   "execution_count": 28,
   "metadata": {},
   "outputs": [
    {
     "data": {
      "text/html": [
       "<!DOCTYPE html>\n",
       "<html>\n",
       "<head>\n",
       "<style>\n",
       "table {\n",
       "  font-family: arial, sans-serif;\n",
       "  border-collapse: collapse;\n",
       "  width: 100%;\n",
       "}\n",
       "\n",
       "td, th {\n",
       "  border: 1px solid #dddddd;\n",
       "  text-align: left;\n",
       "  padding: 8px;\n",
       "}\n",
       "\n",
       "tr:nth-child(even) {\n",
       "  background-color: #dddddd;\n",
       "}\n",
       "</style>\n",
       "</head>\n",
       "<body>\n",
       "\n",
       "<h1>Doing DataScience with Python</h1>\n",
       "<p id=\"author\"> Author: Sneha</p>\n",
       "<p id=\"desc\"> Desc: This course will help you do various datascience activities via python </p>\n",
       "<table id=\"module\">\n",
       "  <tr>\n",
       "    <th>Company</th>\n",
       "    <th>Contact</th>\n",
       "    <th>Country</th>\n",
       "  </tr>\n",
       "  <tr>\n",
       "    <td>Alfreds Futterkiste</td>\n",
       "    <td>Maria Anders</td>\n",
       "    <td>Germany</td>\n",
       "  </tr>\n",
       "  <tr>\n",
       "    <td>Centro comercial Moctezuma</td>\n",
       "    <td>Francisco Chang</td>\n",
       "    <td>Mexico</td>\n",
       "  </tr>\n",
       "  <tr>\n",
       "    <td>Ernst Handel</td>\n",
       "    <td>Roland Mendel</td>\n",
       "    <td>Austria</td>\n",
       "  </tr>\n",
       "  <tr>\n",
       "    <td>Island Trading</td>\n",
       "    <td>Helen Bennett</td>\n",
       "    <td>UK</td>\n",
       "  </tr>\n",
       "  <tr>\n",
       "    <td>Laughing Bacchus Winecellars</td>\n",
       "    <td>Yoshi Tannamuri</td>\n",
       "    <td>Canada</td>\n",
       "  </tr>\n",
       "  <tr>\n",
       "    <td>Magazzini Alimentari Riuniti</td>\n",
       "    <td>Giovanni Rovelli</td>\n",
       "    <td>Italy</td>\n",
       "  </tr>\n",
       "</table>\n",
       "\n",
       "</body>\n",
       "</html>\n"
      ],
      "text/plain": [
       "<IPython.core.display.HTML object>"
      ]
     },
     "metadata": {},
     "output_type": "display_data"
    }
   ],
   "source": [
    "#display HTML string in jupyter notebook\n",
    "from IPython.core.display import display,HTML\n",
    "display(HTML(html_string))"
   ]
  },
  {
   "cell_type": "code",
   "execution_count": 31,
   "metadata": {},
   "outputs": [],
   "source": [
    "ps = BeautifulSoup(html_string)"
   ]
  },
  {
   "cell_type": "code",
   "execution_count": 18,
   "metadata": {},
   "outputs": [
    {
     "name": "stdout",
     "output_type": "stream",
     "text": [
      "<body>\n",
      "<h1>Doing DataScience with Python</h1>\n",
      "<p id=\"author\"> Author: Sneha</p>\n",
      "<p id=\"desc\"> Desc: This course will help you do various datascience activities via python </p>\n",
      "<table>\n",
      "<tr>\n",
      "<th>Company</th>\n",
      "<th>Contact</th>\n",
      "<th>Country</th>\n",
      "</tr>\n",
      "<tr>\n",
      "<td>Alfreds Futterkiste</td>\n",
      "<td>Maria Anders</td>\n",
      "<td>Germany</td>\n",
      "</tr>\n",
      "<tr>\n",
      "<td>Centro comercial Moctezuma</td>\n",
      "<td>Francisco Chang</td>\n",
      "<td>Mexico</td>\n",
      "</tr>\n",
      "<tr>\n",
      "<td>Ernst Handel</td>\n",
      "<td>Roland Mendel</td>\n",
      "<td>Austria</td>\n",
      "</tr>\n",
      "<tr>\n",
      "<td>Island Trading</td>\n",
      "<td>Helen Bennett</td>\n",
      "<td>UK</td>\n",
      "</tr>\n",
      "<tr>\n",
      "<td>Laughing Bacchus Winecellars</td>\n",
      "<td>Yoshi Tannamuri</td>\n",
      "<td>Canada</td>\n",
      "</tr>\n",
      "<tr>\n",
      "<td>Magazzini Alimentari Riuniti</td>\n",
      "<td>Giovanni Rovelli</td>\n",
      "<td>Italy</td>\n",
      "</tr>\n",
      "</table>\n",
      "</body>\n"
     ]
    }
   ],
   "source": [
    "body = ps.find(name=\"body\")\n",
    "print(body)"
   ]
  },
  {
   "cell_type": "code",
   "execution_count": 19,
   "metadata": {},
   "outputs": [
    {
     "name": "stdout",
     "output_type": "stream",
     "text": [
      "Doing DataScience with Python\n"
     ]
    }
   ],
   "source": [
    "print(ps.find(name=\"h1\").text)"
   ]
  },
  {
   "cell_type": "code",
   "execution_count": 20,
   "metadata": {},
   "outputs": [
    {
     "name": "stdout",
     "output_type": "stream",
     "text": [
      "<p id=\"author\"> Author: Sneha</p>\n"
     ]
    }
   ],
   "source": [
    "print(ps.find(name=\"p\"))"
   ]
  },
  {
   "cell_type": "code",
   "execution_count": 22,
   "metadata": {},
   "outputs": [
    {
     "name": "stdout",
     "output_type": "stream",
     "text": [
      "[<p id=\"author\"> Author: Sneha</p>, <p id=\"desc\"> Desc: This course will help you do various datascience activities via python </p>]\n"
     ]
    }
   ],
   "source": [
    "print(ps.findAll(name=\"p\"))"
   ]
  },
  {
   "cell_type": "code",
   "execution_count": 23,
   "metadata": {},
   "outputs": [
    {
     "name": "stdout",
     "output_type": "stream",
     "text": [
      " Author: Sneha\n",
      " Desc: This course will help you do various datascience activities via python \n"
     ]
    }
   ],
   "source": [
    "for p in ps.findAll(name=\"p\"):\n",
    "    print(p.text)"
   ]
  },
  {
   "cell_type": "code",
   "execution_count": 25,
   "metadata": {},
   "outputs": [
    {
     "name": "stdout",
     "output_type": "stream",
     "text": [
      "<p id=\"author\"> Author: Sneha</p>\n"
     ]
    }
   ],
   "source": [
    "print(ps.find(name=\"p\",attrs={\"id\":\"author\"}))"
   ]
  },
  {
   "cell_type": "code",
   "execution_count": 26,
   "metadata": {},
   "outputs": [
    {
     "name": "stdout",
     "output_type": "stream",
     "text": [
      "<p id=\"desc\"> Desc: This course will help you do various datascience activities via python </p>\n"
     ]
    }
   ],
   "source": [
    "print(ps.find(name=\"p\",attrs={\"id\":\"desc\"}))"
   ]
  },
  {
   "cell_type": "code",
   "execution_count": 39,
   "metadata": {},
   "outputs": [
    {
     "name": "stdout",
     "output_type": "stream",
     "text": [
      "Alfreds Futterkiste | Maria Anders | Germany\n",
      "Centro comercial Moctezuma | Francisco Chang | Mexico\n",
      "Ernst Handel | Roland Mendel | Austria\n",
      "Island Trading | Helen Bennett | UK\n",
      "Laughing Bacchus Winecellars | Yoshi Tannamuri | Canada\n",
      "Magazzini Alimentari Riuniti | Giovanni Rovelli | Italy\n"
     ]
    }
   ],
   "source": [
    "#Extract table values\n",
    "body = ps.find(name=\"body\")\n",
    "table = body.find(name=\"table\",attrs={\"id\":\"module\"})\n",
    "for row in body.findAll(name='tr')[1:]:\n",
    "    company = row.findAll(name=\"td\")[0].text\n",
    "    name = row.findAll(name=\"td\")[1].text\n",
    "    country = row.findAll(name=\"td\")[2].text\n",
    "    print(company,\"|\",name,\"|\",country)"
   ]
  },
  {
   "cell_type": "code",
   "execution_count": null,
   "metadata": {},
   "outputs": [],
   "source": []
  }
 ],
 "metadata": {
  "kernelspec": {
   "display_name": "Python 3",
   "language": "python",
   "name": "python3"
  },
  "language_info": {
   "codemirror_mode": {
    "name": "ipython",
    "version": 3
   },
   "file_extension": ".py",
   "mimetype": "text/x-python",
   "name": "python",
   "nbconvert_exporter": "python",
   "pygments_lexer": "ipython3",
   "version": "3.7.4"
  }
 },
 "nbformat": 4,
 "nbformat_minor": 2
}
