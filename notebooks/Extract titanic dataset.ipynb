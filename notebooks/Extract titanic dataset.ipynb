{
 "cells": [
  {
   "cell_type": "code",
   "execution_count": 15,
   "metadata": {},
   "outputs": [
    {
     "name": "stdout",
     "output_type": "stream",
     "text": [
      "Requirement already satisfied: python-dotenv in /opt/anaconda3/lib/python3.7/site-packages (0.10.3)\r\n"
     ]
    }
   ],
   "source": [
    "!pip install python-dotenv"
   ]
  },
  {
   "cell_type": "code",
   "execution_count": 64,
   "metadata": {},
   "outputs": [],
   "source": [
    "from dotenv import find_dotenv, load_dotenv"
   ]
  },
  {
   "cell_type": "code",
   "execution_count": 65,
   "metadata": {},
   "outputs": [],
   "source": [
    "dotenv_path = find_dotenv()\n",
    "load_path = load_dotenv(dotenv_path)"
   ]
  },
  {
   "cell_type": "code",
   "execution_count": 66,
   "metadata": {},
   "outputs": [
    {
     "name": "stdout",
     "output_type": "stream",
     "text": [
      "snehany\n"
     ]
    }
   ],
   "source": [
    "import os\n",
    "kaggle_username = os.environ.get(\"KAGGLE_USERNAME\")\n",
    "print(kaggle_username)"
   ]
  },
  {
   "cell_type": "code",
   "execution_count": 77,
   "metadata": {},
   "outputs": [],
   "source": [
    "def extract_data(file_name,file_path):\n",
    "    !kaggle competitions download -c titanic -f $file_name -p $file_path --force"
   ]
  },
  {
   "cell_type": "code",
   "execution_count": 78,
   "metadata": {},
   "outputs": [
    {
     "name": "stdout",
     "output_type": "stream",
     "text": [
      "Downloading train.csv to ../data/raw\n",
      "  0%|                                               | 0.00/59.8k [00:00<?, ?B/s]\n",
      "100%|██████████████████████████████████████| 59.8k/59.8k [00:00<00:00, 2.47MB/s]\n",
      "Downloading test.csv to ../data/raw\n",
      "  0%|                                               | 0.00/28.0k [00:00<?, ?B/s]\n",
      "100%|██████████████████████████████████████| 28.0k/28.0k [00:00<00:00, 1.08MB/s]\n"
     ]
    }
   ],
   "source": [
    "import os\n",
    "train_file = 'train.csv'\n",
    "test_file = 'test.csv'\n",
    "raw_path = os.path.join(os.path.pardir,'data','raw')\n",
    "extract_data(train_file,raw_path)\n",
    "extract_data(test_file,raw_path)"
   ]
  },
  {
   "cell_type": "code",
   "execution_count": 80,
   "metadata": {},
   "outputs": [
    {
     "name": "stdout",
     "output_type": "stream",
     "text": [
      "total 176\r\n",
      "-rw-r--r--  1 girish  staff  28629 Nov 10 15:48 test.csv\r\n",
      "-rw-r--r--  1 girish  staff  61194 Nov 10 15:48 train.csv\r\n"
     ]
    }
   ],
   "source": [
    "!ls -l ../data/raw"
   ]
  },
  {
   "cell_type": "code",
   "execution_count": 105,
   "metadata": {},
   "outputs": [],
   "source": [
    "get_script_file = os.path.join(os.path.pardir,'src','data','get_raw_data.py')"
   ]
  },
  {
   "cell_type": "code",
   "execution_count": 106,
   "metadata": {},
   "outputs": [
    {
     "name": "stdout",
     "output_type": "stream",
     "text": [
      "Writing ../src/data/get_raw_data.py\n"
     ]
    }
   ],
   "source": [
    "%%writefile $get_script_file\n",
    "import os\n",
    "import logging\n",
    "def extract_data(file_name,file_path):\n",
    "    os.system('kaggle competitions download -c titanic -f {0} -p {1} --force'.format(file_name,file_path))\n",
    "\n",
    "def main():\n",
    "    logger = logging.getLogger(__name__)\n",
    "    logger.info(\"getting raw data\")\n",
    "    train_file = 'train.csv'\n",
    "    test_file = 'test.csv'\n",
    "    extract_data(train_file,os.path.join(os.path.pardir,'data','raw'))\n",
    "    extract_data(test_file,os.path.join(os.path.pardir,'data','raw'))\n",
    "    logger.info(\"Raw data downloaded\")\n",
    "    \n",
    "if __name__ == \"__main__\":\n",
    "    #setup logger\n",
    "    log_fmt = '%(asctime)s - %(name)s - %(levelname)s - %(message)s'\n",
    "    logging.basicConfig(level=logging.INFO,format=log_fmt)\n",
    "    main()\n",
    "    "
   ]
  },
  {
   "cell_type": "code",
   "execution_count": 107,
   "metadata": {},
   "outputs": [
    {
     "name": "stdout",
     "output_type": "stream",
     "text": [
      "2019-11-10 16:34:40,965 - __main__ - INFO - getting raw data\n",
      "Downloading train.csv to ../data/raw\n",
      "  0%|                                               | 0.00/59.8k [00:00<?, ?B/s]\n",
      "100%|██████████████████████████████████████| 59.8k/59.8k [00:00<00:00, 2.37MB/s]\n",
      "Downloading test.csv to ../data/raw\n",
      "  0%|                                               | 0.00/28.0k [00:00<?, ?B/s]\n",
      "100%|███████████████████████████████████████| 28.0k/28.0k [00:00<00:00, 354kB/s]\n",
      "2019-11-10 16:34:43,165 - __main__ - INFO - Raw data downloaded\n"
     ]
    }
   ],
   "source": [
    "!python $get_script_file"
   ]
  },
  {
   "cell_type": "code",
   "execution_count": null,
   "metadata": {},
   "outputs": [],
   "source": []
  }
 ],
 "metadata": {
  "kernelspec": {
   "display_name": "Python 3",
   "language": "python",
   "name": "python3"
  },
  "language_info": {
   "codemirror_mode": {
    "name": "ipython",
    "version": 3
   },
   "file_extension": ".py",
   "mimetype": "text/x-python",
   "name": "python",
   "nbconvert_exporter": "python",
   "pygments_lexer": "ipython3",
   "version": "3.7.4"
  }
 },
 "nbformat": 4,
 "nbformat_minor": 2
}
